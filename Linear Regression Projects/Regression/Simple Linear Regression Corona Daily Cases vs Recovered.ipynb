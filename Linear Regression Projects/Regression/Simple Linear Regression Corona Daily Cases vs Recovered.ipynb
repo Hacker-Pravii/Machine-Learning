{
 "cells": [
  {
   "cell_type": "code",
   "execution_count": 1,
   "metadata": {},
   "outputs": [],
   "source": [
    "import numpy as np\n",
    "import pandas as pd\n",
    "import matplotlib.pyplot as plt\n",
    "import seaborn as sns\n",
    "\n",
    "from sklearn import neighbors, tree\n",
    "from sklearn.ensemble import RandomForestClassifier\n",
    "from sklearn import metrics\n",
    "\n",
    "from sklearn.linear_model import SGDRegressor, LogisticRegression\n",
    "from sklearn.model_selection import train_test_split, cross_val_score, GridSearchCV\n",
    "from sklearn.metrics import mean_squared_error"
   ]
  },
  {
   "cell_type": "code",
   "execution_count": 78,
   "metadata": {},
   "outputs": [
    {
     "name": "stdout",
     "output_type": "stream",
     "text": [
      "Number of nulls for each column:\n",
      "Date               0\n",
      "Date_YMD           0\n",
      "Daily Confirmed    0\n",
      "Total Confirmed    0\n",
      "Daily Recovered    0\n",
      "Total Recovered    0\n",
      "Daily Deceased     0\n",
      "Total Deceased     0\n",
      "dtype: int64\n",
      "(500, 8)\n"
     ]
    }
   ],
   "source": [
    "df=pd.read_csv(r'C:\\Users\\Brain Hacker\\Downloads\\case_time_series.csv')\n",
    "print(\"Number of nulls for each column:\")\n",
    "print(df.isnull().sum())\n",
    "print(df.shape)"
   ]
  },
  {
   "cell_type": "code",
   "execution_count": 54,
   "metadata": {},
   "outputs": [
    {
     "data": {
      "text/html": [
       "<div>\n",
       "<style scoped>\n",
       "    .dataframe tbody tr th:only-of-type {\n",
       "        vertical-align: middle;\n",
       "    }\n",
       "\n",
       "    .dataframe tbody tr th {\n",
       "        vertical-align: top;\n",
       "    }\n",
       "\n",
       "    .dataframe thead th {\n",
       "        text-align: right;\n",
       "    }\n",
       "</style>\n",
       "<table border=\"1\" class=\"dataframe\">\n",
       "  <thead>\n",
       "    <tr style=\"text-align: right;\">\n",
       "      <th></th>\n",
       "      <th>count</th>\n",
       "      <th>mean</th>\n",
       "      <th>std</th>\n",
       "      <th>min</th>\n",
       "      <th>25%</th>\n",
       "      <th>50%</th>\n",
       "      <th>75%</th>\n",
       "      <th>max</th>\n",
       "    </tr>\n",
       "  </thead>\n",
       "  <tbody>\n",
       "    <tr>\n",
       "      <th>Daily Confirmed</th>\n",
       "      <td>500.0</td>\n",
       "      <td>58877.718</td>\n",
       "      <td>8.781415e+04</td>\n",
       "      <td>0.0</td>\n",
       "      <td>8681.00</td>\n",
       "      <td>26239.0</td>\n",
       "      <td>67794.50</td>\n",
       "      <td>414280.0</td>\n",
       "    </tr>\n",
       "    <tr>\n",
       "      <th>Total Confirmed</th>\n",
       "      <td>500.0</td>\n",
       "      <td>7259978.022</td>\n",
       "      <td>7.553843e+06</td>\n",
       "      <td>1.0</td>\n",
       "      <td>214453.75</td>\n",
       "      <td>6718256.5</td>\n",
       "      <td>10841201.75</td>\n",
       "      <td>29438859.0</td>\n",
       "    </tr>\n",
       "    <tr>\n",
       "      <th>Daily Recovered</th>\n",
       "      <td>500.0</td>\n",
       "      <td>56071.486</td>\n",
       "      <td>8.563800e+04</td>\n",
       "      <td>0.0</td>\n",
       "      <td>4710.25</td>\n",
       "      <td>22798.5</td>\n",
       "      <td>61941.00</td>\n",
       "      <td>422391.0</td>\n",
       "    </tr>\n",
       "    <tr>\n",
       "      <th>Total Recovered</th>\n",
       "      <td>500.0</td>\n",
       "      <td>6555864.950</td>\n",
       "      <td>6.874362e+06</td>\n",
       "      <td>0.0</td>\n",
       "      <td>103116.75</td>\n",
       "      <td>5700258.5</td>\n",
       "      <td>10536563.00</td>\n",
       "      <td>28035743.0</td>\n",
       "    </tr>\n",
       "    <tr>\n",
       "      <th>Daily Deceased</th>\n",
       "      <td>500.0</td>\n",
       "      <td>739.632</td>\n",
       "      <td>1.060705e+03</td>\n",
       "      <td>0.0</td>\n",
       "      <td>104.00</td>\n",
       "      <td>384.0</td>\n",
       "      <td>883.00</td>\n",
       "      <td>6139.0</td>\n",
       "    </tr>\n",
       "    <tr>\n",
       "      <th>Total Deceased</th>\n",
       "      <td>500.0</td>\n",
       "      <td>98312.744</td>\n",
       "      <td>8.952695e+04</td>\n",
       "      <td>0.0</td>\n",
       "      <td>6023.25</td>\n",
       "      <td>103510.0</td>\n",
       "      <td>154546.50</td>\n",
       "      <td>369816.0</td>\n",
       "    </tr>\n",
       "  </tbody>\n",
       "</table>\n",
       "</div>"
      ],
      "text/plain": [
       "                 count         mean           std  min        25%        50%  \\\n",
       "Daily Confirmed  500.0    58877.718  8.781415e+04  0.0    8681.00    26239.0   \n",
       "Total Confirmed  500.0  7259978.022  7.553843e+06  1.0  214453.75  6718256.5   \n",
       "Daily Recovered  500.0    56071.486  8.563800e+04  0.0    4710.25    22798.5   \n",
       "Total Recovered  500.0  6555864.950  6.874362e+06  0.0  103116.75  5700258.5   \n",
       "Daily Deceased   500.0      739.632  1.060705e+03  0.0     104.00      384.0   \n",
       "Total Deceased   500.0    98312.744  8.952695e+04  0.0    6023.25   103510.0   \n",
       "\n",
       "                         75%         max  \n",
       "Daily Confirmed     67794.50    414280.0  \n",
       "Total Confirmed  10841201.75  29438859.0  \n",
       "Daily Recovered     61941.00    422391.0  \n",
       "Total Recovered  10536563.00  28035743.0  \n",
       "Daily Deceased        883.00      6139.0  \n",
       "Total Deceased     154546.50    369816.0  "
      ]
     },
     "execution_count": 54,
     "metadata": {},
     "output_type": "execute_result"
    }
   ],
   "source": [
    "df.describe().T"
   ]
  },
  {
   "cell_type": "code",
   "execution_count": 91,
   "metadata": {},
   "outputs": [
    {
     "data": {
      "text/plain": [
       "count       500.000000\n",
       "mean      56071.486000\n",
       "std       85638.003492\n",
       "min           0.000000\n",
       "25%        4710.250000\n",
       "50%       22798.500000\n",
       "75%       61941.000000\n",
       "max      422391.000000\n",
       "Name: Daily Recovered, dtype: float64"
      ]
     },
     "execution_count": 91,
     "metadata": {},
     "output_type": "execute_result"
    }
   ],
   "source": [
    "df['Daily Recovered'].describe()"
   ]
  },
  {
   "cell_type": "code",
   "execution_count": 95,
   "metadata": {},
   "outputs": [
    {
     "data": {
      "text/plain": [
       "array([26239, 26239, 26239, 26239, 26239, 26239, 26239, 26239, 26239,\n",
       "       26239, 26239, 26239, 26239, 26239, 26239, 26239, 26239, 26239,\n",
       "       26239, 26239, 26239, 26239, 26239, 26239, 26239, 26239, 26239,\n",
       "       26239, 26239, 26239, 26239, 26239, 26239, 26239, 26239, 26239,\n",
       "       26239, 26239, 26239, 26239, 26239, 26239, 26239, 26239, 26239,\n",
       "       26239, 26239, 26239, 26239, 26239, 26239, 26239, 26239, 26239,\n",
       "       26239, 26239, 26239, 26239, 26239, 26239, 26239, 26239, 26239,\n",
       "       26239, 26239, 26239, 26239, 26239, 26239, 26239, 26239, 26239,\n",
       "       26239, 26239, 26239, 26239, 26239, 26239, 26239, 26239, 26239,\n",
       "       26239, 26239, 26239, 26239, 26239, 26239, 26239, 26239, 26239,\n",
       "       26239, 26239, 26239, 26239, 26239, 26239, 26239, 26239, 26239,\n",
       "       26239, 26239, 26239, 26239, 26239, 26239, 26239, 26239, 26239,\n",
       "       26239, 26239, 26239, 26239, 26239, 26239, 26239, 26239, 26239,\n",
       "       26239, 26239, 26239, 26239, 26239,  8789, 26239,  8812,  9689,\n",
       "        9847,  9472, 10408, 10882, 26239,  9981, 11156, 11135, 11306,\n",
       "       12039, 11405, 10032, 11086, 13108, 13829, 14740, 15918, 15151,\n",
       "       13560, 15656, 16868, 18205, 18255, 20142, 19610, 18339, 18256,\n",
       "       19429, 21947, 22718, 24018, 23942, 22500, 23147, 25561, 25790,\n",
       "       27762, 27757, 29106, 28178, 29917, 32607, 35468, 34820, 37411,\n",
       "       40235, 36806, 39170, 45601, 48443, 48888, 50072, 48932, 46484,\n",
       "       49631, 52479, 54968, 57486, 55117, 52672, 50488, 51282, 56626,\n",
       "       62170, 61455, 65156, 62117, 53016, 61252, 67066, 64141, 65610,\n",
       "       63986, 58096, 54298, 65024, 26239, 26239, 26239, 26239, 61749,\n",
       "       59696, 66873, 26239, 26239, 26239, 26239, 26239, 26239, 26239,\n",
       "       26239, 26239, 26239, 26239, 26239, 26239, 26239, 26239, 26239,\n",
       "       26239, 26239, 26239, 26239, 26239, 26239, 26239, 26239, 26239,\n",
       "       26239, 26239, 26239, 26239, 26239, 26239, 26239, 26239, 26239,\n",
       "       26239, 26239, 26239, 26239, 26239, 26239, 60130, 26239, 26239,\n",
       "       26239, 26239, 26239, 67789, 54262, 63717, 26239, 63441, 62304,\n",
       "       61893, 56519, 45506, 54348, 56264, 54371, 53931, 50366, 45922,\n",
       "       36019, 43036, 50188, 48765, 48117, 47228, 45928, 37592, 46027,\n",
       "       50465, 47628, 50017, 46153, 46707, 37119, 44724, 48285, 44585,\n",
       "       44620, 41692, 30681, 28609, 38548, 45366, 46185, 46283, 45301,\n",
       "       44404, 37441, 44245, 44699, 43174, 41353, 41815, 39036, 31179,\n",
       "       36474, 35506, 36574, 36711, 36010, 33178, 26227, 32083, 31637,\n",
       "       29411, 29961, 30354, 27336, 21941, 26251, 18172, 26754, 26991,\n",
       "       26834, 24622, 19147, 23880, 24716, 23444, 22349, 18575, 20333,\n",
       "       16072, 20542, 21945, 19026, 20159, 18144, 16678, 16278, 17909,\n",
       "       20472, 18123, 18453, 18820, 16086, 12481, 15903, 17015, 15677,\n",
       "       15155, 15050, 13962,  9987, 13787, 15279, 14495, 14323, 14896,\n",
       "       13232,  9098, 12733, 11556, 18912, 13054, 13073, 11527, 26239,\n",
       "       11001, 12925, 12401, 11711, 12069, 11786,  8715, 10731, 12539,\n",
       "        9353, 12137, 12198, 11706,  9086, 11592, 12862, 13237, 13916,\n",
       "       13919, 14278, 10494, 13682, 16930, 16599, 16562, 16805, 15614,\n",
       "       12270, 14998, 17425, 16824, 18324, 18724, 18650, 15353, 17873,\n",
       "       22851, 23298, 24845, 25154, 26513, 24437, 28869, 35838, 39687,\n",
       "       40906, 43815, 47009, 40636, 47239, 53419, 59083, 62276, 62632,\n",
       "       26239, 56152, 53237, 26239, 26239, 26239, 26239, 26239, 26239,\n",
       "       26239, 26239, 26239, 26239, 26239, 26239, 26239, 26239, 26239,\n",
       "       26239, 26239, 26239, 26239, 26239, 26239, 26239, 26239, 26239,\n",
       "       26239, 26239, 26239, 26239, 26239, 26239, 26239, 26239, 26239,\n",
       "       26239, 26239, 26239, 26239, 26239, 26239, 26239, 26239, 26239,\n",
       "       26239, 26239, 26239, 26239, 26239, 26239, 26239, 26239, 26239,\n",
       "       26239, 26239, 26239, 26239, 26239, 26239, 26239, 26239, 26239,\n",
       "       26239, 26239, 26239, 26239, 26239, 26239, 26239, 26239, 26239,\n",
       "       26239, 26239, 26239, 26239, 26239], dtype=int64)"
      ]
     },
     "execution_count": 95,
     "metadata": {},
     "output_type": "execute_result"
    }
   ],
   "source": [
    "x=df['Daily Confirmed'].values\n",
    "y=df['Daily Recovered'].values\n",
    "x[(x<8681) | (x>67794)]=26239\n",
    "y[(y<4710) | (y>61941)]=22798"
   ]
  },
  {
   "cell_type": "code",
   "execution_count": null,
   "metadata": {},
   "outputs": [],
   "source": [
    "\n"
   ]
  },
  {
   "cell_type": "code",
   "execution_count": 39,
   "metadata": {},
   "outputs": [
    {
     "data": {
      "text/html": [
       "<div>\n",
       "<style scoped>\n",
       "    .dataframe tbody tr th:only-of-type {\n",
       "        vertical-align: middle;\n",
       "    }\n",
       "\n",
       "    .dataframe tbody tr th {\n",
       "        vertical-align: top;\n",
       "    }\n",
       "\n",
       "    .dataframe thead th {\n",
       "        text-align: right;\n",
       "    }\n",
       "</style>\n",
       "<table border=\"1\" class=\"dataframe\">\n",
       "  <thead>\n",
       "    <tr style=\"text-align: right;\">\n",
       "      <th></th>\n",
       "      <th>0</th>\n",
       "    </tr>\n",
       "  </thead>\n",
       "  <tbody>\n",
       "    <tr>\n",
       "      <th>count</th>\n",
       "      <td>250.000000</td>\n",
       "    </tr>\n",
       "    <tr>\n",
       "      <th>mean</th>\n",
       "      <td>83378.044000</td>\n",
       "    </tr>\n",
       "    <tr>\n",
       "      <th>std</th>\n",
       "      <td>113664.627883</td>\n",
       "    </tr>\n",
       "    <tr>\n",
       "      <th>min</th>\n",
       "      <td>0.000000</td>\n",
       "    </tr>\n",
       "    <tr>\n",
       "      <th>25%</th>\n",
       "      <td>27.500000</td>\n",
       "    </tr>\n",
       "    <tr>\n",
       "      <th>50%</th>\n",
       "      <td>33338.000000</td>\n",
       "    </tr>\n",
       "    <tr>\n",
       "      <th>75%</th>\n",
       "      <td>94148.000000</td>\n",
       "    </tr>\n",
       "    <tr>\n",
       "      <th>max</th>\n",
       "      <td>422391.000000</td>\n",
       "    </tr>\n",
       "  </tbody>\n",
       "</table>\n",
       "</div>"
      ],
      "text/plain": [
       "                   0\n",
       "count     250.000000\n",
       "mean    83378.044000\n",
       "std    113664.627883\n",
       "min         0.000000\n",
       "25%        27.500000\n",
       "50%     33338.000000\n",
       "75%     94148.000000\n",
       "max    422391.000000"
      ]
     },
     "execution_count": 39,
     "metadata": {},
     "output_type": "execute_result"
    }
   ],
   "source": [
    "pd.DataFrame(a).describe()"
   ]
  },
  {
   "cell_type": "code",
   "execution_count": 98,
   "metadata": {},
   "outputs": [],
   "source": [
    "x=x.reshape(-1,1)\n",
    "y=y.reshape(-1,1)"
   ]
  },
  {
   "cell_type": "code",
   "execution_count": 100,
   "metadata": {},
   "outputs": [],
   "source": [
    "from sklearn.model_selection import train_test_split\n",
    "x_train, x_test,y_train,y_test = train_test_split(x,y,test_size=0.2,random_state=32)"
   ]
  },
  {
   "cell_type": "code",
   "execution_count": 101,
   "metadata": {},
   "outputs": [
    {
     "data": {
      "text/plain": [
       "LinearRegression()"
      ]
     },
     "execution_count": 101,
     "metadata": {},
     "output_type": "execute_result"
    }
   ],
   "source": [
    "from sklearn.linear_model import LinearRegression\n",
    "reg = LinearRegression()\n",
    "reg.fit(x_train, y_train)"
   ]
  },
  {
   "cell_type": "code",
   "execution_count": 109,
   "metadata": {},
   "outputs": [
    {
     "data": {
      "text/plain": [
       "array([[24360.38490314],\n",
       "       [24731.83960339],\n",
       "       [46758.79118148],\n",
       "       [19575.79864646],\n",
       "       [30957.29552088],\n",
       "       [24360.38490314],\n",
       "       [24360.38490314],\n",
       "       [24360.38490314],\n",
       "       [24360.38490314],\n",
       "       [24360.38490314],\n",
       "       [24360.38490314],\n",
       "       [24360.38490314],\n",
       "       [24360.38490314],\n",
       "       [17753.48558758],\n",
       "       [24360.38490314],\n",
       "       [15639.62741102],\n",
       "       [24360.38490314],\n",
       "       [24360.38490314],\n",
       "       [14242.45830319],\n",
       "       [24360.38490314],\n",
       "       [41908.65409534],\n",
       "       [19324.20832007],\n",
       "       [50299.78455933],\n",
       "       [16669.08758029],\n",
       "       [18342.19446546],\n",
       "       [24360.38490314],\n",
       "       [24360.38490314],\n",
       "       [34846.64473527],\n",
       "       [24360.38490314],\n",
       "       [31152.69942202],\n",
       "       [24360.38490314],\n",
       "       [14678.83953928],\n",
       "       [31353.72196568],\n",
       "       [22973.82878674],\n",
       "       [24360.38490314],\n",
       "       [15807.56239315],\n",
       "       [24360.38490314],\n",
       "       [24360.38490314],\n",
       "       [36301.24885558],\n",
       "       [16667.21469945],\n",
       "       [15290.64728087],\n",
       "       [24360.38490314],\n",
       "       [24360.38490314],\n",
       "       [24360.38490314],\n",
       "       [13892.85387942],\n",
       "       [13420.26361372],\n",
       "       [24360.38490314],\n",
       "       [24360.38490314],\n",
       "       [24360.38490314],\n",
       "       [41215.06389033],\n",
       "       [32755.88542243],\n",
       "       [24360.38490314],\n",
       "       [39239.17460244],\n",
       "       [19428.46535359],\n",
       "       [20673.30681964],\n",
       "       [23683.02633209],\n",
       "       [16048.53972811],\n",
       "       [24360.38490314],\n",
       "       [19160.01909962],\n",
       "       [13818.56293937],\n",
       "       [24360.38490314],\n",
       "       [24360.38490314],\n",
       "       [24367.8764265 ],\n",
       "       [18482.66052858],\n",
       "       [24360.38490314],\n",
       "       [24360.38490314],\n",
       "       [24360.38490314],\n",
       "       [24360.38490314],\n",
       "       [49848.42027651],\n",
       "       [24360.38490314],\n",
       "       [24360.38490314],\n",
       "       [24360.38490314],\n",
       "       [24080.07707051],\n",
       "       [24360.38490314],\n",
       "       [24360.38490314],\n",
       "       [24360.38490314],\n",
       "       [17028.68070188],\n",
       "       [24360.38490314],\n",
       "       [16243.31933563],\n",
       "       [24360.38490314],\n",
       "       [24360.38490314],\n",
       "       [24360.38490314],\n",
       "       [24360.38490314],\n",
       "       [15556.59636038],\n",
       "       [43330.79494773],\n",
       "       [21680.91671242],\n",
       "       [24360.38490314],\n",
       "       [24360.38490314],\n",
       "       [41077.09500167],\n",
       "       [24360.38490314],\n",
       "       [24360.38490314],\n",
       "       [39422.71692492],\n",
       "       [37463.6835646 ],\n",
       "       [24360.38490314],\n",
       "       [36447.95785484],\n",
       "       [24360.38490314],\n",
       "       [24360.38490314],\n",
       "       [15928.67535424],\n",
       "       [31334.99315727],\n",
       "       [42295.71613594]])"
      ]
     },
     "execution_count": 109,
     "metadata": {},
     "output_type": "execute_result"
    }
   ],
   "source": [
    "y_pred=reg.predict(x_test)\n",
    "y_pred"
   ]
  },
  {
   "cell_type": "code",
   "execution_count": 110,
   "metadata": {},
   "outputs": [
    {
     "name": "stdout",
     "output_type": "stream",
     "text": [
      "Coefficient [[0.62429361]]\n",
      "Intercept [7979.54476887]\n"
     ]
    },
    {
     "data": {
      "text/plain": [
       "0.5835541428549706"
      ]
     },
     "execution_count": 110,
     "metadata": {},
     "output_type": "execute_result"
    }
   ],
   "source": [
    "from sklearn.metrics import r2_score\n",
    "print ('Coefficient', reg.coef_)\n",
    "print ('Intercept', reg.intercept_)\n",
    "r2_score(y_test,y_pred)"
   ]
  },
  {
   "cell_type": "code",
   "execution_count": 111,
   "metadata": {},
   "outputs": [
    {
     "name": "stdout",
     "output_type": "stream",
     "text": [
      "[[24360]\n",
      " [24731]\n",
      " [46758]\n",
      " [19575]\n",
      " [30957]\n",
      " [24360]\n",
      " [24360]\n",
      " [24360]\n",
      " [24360]\n",
      " [24360]\n",
      " [24360]\n",
      " [24360]\n",
      " [24360]\n",
      " [17753]\n",
      " [24360]\n",
      " [15639]\n",
      " [24360]\n",
      " [24360]\n",
      " [14242]\n",
      " [24360]\n",
      " [41908]\n",
      " [19324]\n",
      " [50299]\n",
      " [16669]\n",
      " [18342]\n",
      " [24360]\n",
      " [24360]\n",
      " [34846]\n",
      " [24360]\n",
      " [31152]\n",
      " [24360]\n",
      " [14678]\n",
      " [31353]\n",
      " [22973]\n",
      " [24360]\n",
      " [15807]\n",
      " [24360]\n",
      " [24360]\n",
      " [36301]\n",
      " [16667]\n",
      " [15290]\n",
      " [24360]\n",
      " [24360]\n",
      " [24360]\n",
      " [13892]\n",
      " [13420]\n",
      " [24360]\n",
      " [24360]\n",
      " [24360]\n",
      " [41215]\n",
      " [32755]\n",
      " [24360]\n",
      " [39239]\n",
      " [19428]\n",
      " [20673]\n",
      " [23683]\n",
      " [16048]\n",
      " [24360]\n",
      " [19160]\n",
      " [13818]\n",
      " [24360]\n",
      " [24360]\n",
      " [24367]\n",
      " [18482]\n",
      " [24360]\n",
      " [24360]\n",
      " [24360]\n",
      " [24360]\n",
      " [49848]\n",
      " [24360]\n",
      " [24360]\n",
      " [24360]\n",
      " [24080]\n",
      " [24360]\n",
      " [24360]\n",
      " [24360]\n",
      " [17028]\n",
      " [24360]\n",
      " [16243]\n",
      " [24360]\n",
      " [24360]\n",
      " [24360]\n",
      " [24360]\n",
      " [15556]\n",
      " [43330]\n",
      " [21680]\n",
      " [24360]\n",
      " [24360]\n",
      " [41077]\n",
      " [24360]\n",
      " [24360]\n",
      " [39422]\n",
      " [37463]\n",
      " [24360]\n",
      " [36447]\n",
      " [24360]\n",
      " [24360]\n",
      " [15928]\n",
      " [31334]\n",
      " [42295]]\n"
     ]
    },
    {
     "data": {
      "image/png": "[encoded data removed]",
      "text/plain": [
       "<Figure size 432x288 with 1 Axes>"
      ]
     },
     "metadata": {
      "needs_background": "light"
     },
     "output_type": "display_data"
    }
   ],
   "source": [
    "y_pred= reg.predict(x_test)\n",
    "print(y_pred.astype(np.int64))\n",
    "plt.plot(y_test)\n",
    "plt.plot(y_pred)\n",
    "plt.show()"
   ]
  },
  {
   "cell_type": "code",
   "execution_count": 115,
   "metadata": {},
   "outputs": [
    {
     "data": {
      "text/plain": [
       "array([[70408.90615562]])"
      ]
     },
     "execution_count": 115,
     "metadata": {},
     "output_type": "execute_result"
    }
   ],
   "source": [
    "reg.predict([[100000]])"
   ]
  },
  {
   "cell_type": "code",
   "execution_count": null,
   "metadata": {},
   "outputs": [],
   "source": []
  },
  {
   "cell_type": "code",
   "execution_count": null,
   "metadata": {},
   "outputs": [],
   "source": []
  }
 ],
 "metadata": {
  "kernelspec": {
   "display_name": "Python 3",
   "language": "python",
   "name": "python3"
  },
  "language_info": {
   "codemirror_mode": {
    "name": "ipython",
    "version": 3
   },
   "file_extension": ".py",
   "mimetype": "text/x-python",
   "name": "python",
   "nbconvert_exporter": "python",
   "pygments_lexer": "ipython3",
   "version": "3.8.5"
  }
 },
 "nbformat": 4,
 "nbformat_minor": 4
}
