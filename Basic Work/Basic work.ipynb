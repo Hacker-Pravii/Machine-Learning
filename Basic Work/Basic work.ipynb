{
 "cells": [
  {
   "cell_type": "code",
   "execution_count": 16,
   "metadata": {},
   "outputs": [
    {
     "name": "stdout",
     "output_type": "stream",
     "text": [
      "23\n",
      "4.440630585851519\n"
     ]
    }
   ],
   "source": [
    "a=-23\n",
    "print(abs(a))\n",
    "b=3.14+3.14j\n",
    "print(abs(b))"
   ]
  },
  {
   "cell_type": "code",
   "execution_count": 1,
   "metadata": {},
   "outputs": [
    {
     "name": "stdout",
     "output_type": "stream",
     "text": [
      "Input some comma seprated numbers : 1,2,3,4\n",
      "List :  ['1', '2', '3', '4']\n",
      "Tuple :  ('1', '2', '3', '4')\n"
     ]
    }
   ],
   "source": [
    "values = input(\"Input some comma seprated numbers : \")\n",
    "list = values.split(\",\")\n",
    "tuple = tuple(list)\n",
    "print('List : ',list)\n",
    "print('Tuple : ',tuple)"
   ]
  },
  {
   "cell_type": "code",
   "execution_count": 3,
   "metadata": {},
   "outputs": [
    {
     "name": "stdout",
     "output_type": "stream",
     "text": [
      "The price of this %s laptop is %d USD and the exchange rate is %4.2f USD to 1 EUR’ %(brand,1299, exchangeRate\n"
     ]
    }
   ],
   "source": [
    "brand = 'Apple'\n",
    "exchangeRate = 1.235235245\n",
    "message = ('The price of this %s laptop is %d USD and the exchange rate is %4.2f USD to 1 EUR’ % brand,1299, exchangeRate')\n",
    "print (message)"
   ]
  },
  {
   "cell_type": "code",
   "execution_count": 16,
   "metadata": {},
   "outputs": [
    {
     "name": "stdout",
     "output_type": "stream",
     "text": [
      "5\n"
     ]
    }
   ],
   "source": [
    "x=100\n",
    "y=20\n",
    "print(x//y)"
   ]
  },
  {
   "cell_type": "code",
   "execution_count": 32,
   "metadata": {},
   "outputs": [
    {
     "name": "stdout",
     "output_type": "stream",
     "text": [
      "The price of this Apple laptop is 1299.0 USD and the exchange rate is 1 USD to 1 EUR\n"
     ]
    }
   ],
   "source": [
    "brand = 'Apple'\n",
    "exchangeRate = 1.235235245\n",
    "message = 'The price of this %s laptop is % USD and the exchange rate is %1.f USD to 1 EUR' %(brand, 1299, exchangeRate)\n",
    "print (message)"
   ]
  },
  {
   "cell_type": "code",
   "execution_count": 33,
   "metadata": {},
   "outputs": [
    {
     "name": "stdout",
     "output_type": "stream",
     "text": [
      "For only 49.00 dollars!\n"
     ]
    }
   ],
   "source": [
    "txt = \"For only {price:.2f} dollars!\"\n",
    "print(txt.format(price = 49))"
   ]
  },
  {
   "cell_type": "code",
   "execution_count": 2,
   "metadata": {},
   "outputs": [
    {
     "name": "stdout",
     "output_type": "stream",
     "text": [
      "Hi Hello Praveen your Profession is Beginner Python Programmer\n",
      "Hi Hello Praveen\n",
      "Profession: Beginner Python Programmer\n",
      "Mobile Number:9880032253\n",
      "Height is 6.12 and Weight is 6744.27 \n",
      "Hi Hello 老 your profession is 1000000000000001\n"
     ]
    }
   ],
   "source": [
    "Name=\"Praveen\"\n",
    "Profession=\"Beginner Python Programmer\"\n",
    "MOB=9880032253\n",
    "RANK=32769\n",
    "Height=6.124368\n",
    "weight=6744.26782\n",
    "print(f\"Hi Hello {Name} your Profession is {Profession}\")\n",
    "print(\"Hi Hello %s\"%(Name))\n",
    "print(\"Profession: %s\"%(Profession)) # %formating string\n",
    "print(\"Mobile Number:%d\"%(MOB)) # %d is formatting integer\n",
    "print(\"Height is %.2f and Weight is %.2f \"%(Height,weight))#%.2f defines 2 numaric numbers will be printed after decimal point\n",
    "txt=\"Hi Hello {:c} your profession is {:b}\" # formating text c converts it to unicode text b converts integer into binary\n",
    "print(txt.format(RANK,RANK)) #format(value1,valu2,value3,.....n)"
   ]
  },
  {
   "cell_type": "code",
   "execution_count": 1,
   "metadata": {},
   "outputs": [
    {
     "name": "stdout",
     "output_type": "stream",
     "text": [
      "[23, 24]\n"
     ]
    }
   ],
   "source": [
    "Userage=[21,22,23,24,25]\n",
    "Userage=Userage[2:4]\n",
    "print(Userage)"
   ]
  },
  {
   "cell_type": "code",
   "execution_count": 7,
   "metadata": {},
   "outputs": [
    {
     "name": "stdout",
     "output_type": "stream",
     "text": [
      "[1, 2, 3, 4, 5, 6, 7, 8, 9, 10]\n",
      "[1]\n",
      "[2, 3, 4, 5, 6, 7, 8, 9, 10]\n",
      "[1, 2]\n",
      "[3, 4, 5, 6, 7, 8, 9, 10]\n",
      "[1, 2, 3]\n",
      "[4, 5, 6, 7, 8, 9, 10]\n",
      "[1, 2, 3, 4]\n",
      "[5, 6, 7, 8, 9, 10]\n",
      "[1, 2, 3, 4, 5]\n",
      "[6, 7, 8, 9, 10]\n",
      "[1, 2, 3, 4, 5, 6]\n",
      "[7, 8, 9, 10]\n",
      "[1, 2, 3, 4, 5, 6, 7]\n",
      "[8, 9, 10]\n",
      "[1, 2, 3, 4, 5, 6, 7, 8]\n",
      "[9, 10]\n",
      "[1, 2, 3, 4, 5, 6, 7, 8, 9]\n",
      "[10]\n",
      "[1, 2, 3, 4, 5, 6, 7, 8, 9, 10]\n"
     ]
    }
   ],
   "source": [
    "a=[1,2,3,4,5,6,7,8,9,10]\n",
    "x=10\n",
    "for i in range(len(a)):\n",
    "    print(a[i:])\n",
    "    print(a[:i+1:])"
   ]
  },
  {
   "cell_type": "code",
   "execution_count": 64,
   "metadata": {},
   "outputs": [
    {
     "name": "stdout",
     "output_type": "stream",
     "text": [
      "10\n",
      "2 Prime\n",
      "3 Prime\n",
      "5 Prime\n",
      "7 Prime\n"
     ]
    }
   ],
   "source": [
    "x=int(input(\"Enter int Number:\"))\n",
    "if x>1:\n",
    "    for k in range(2,x):\n",
    "        for i in range(2,k):\n",
    "            if (k%i)==0:\n",
    "                break\n",
    "        else:\n",
    "            print(k,\"Prime\")"
   ]
  },
  {
   "cell_type": "code",
   "execution_count": 7,
   "metadata": {},
   "outputs": [
    {
     "name": "stdout",
     "output_type": "stream",
     "text": [
      "\\\n",
      "I am 5.9' tall\n"
     ]
    }
   ],
   "source": [
    "print('\\\\')\n",
    "print ('I am 5.9\\' tall')"
   ]
  },
  {
   "cell_type": "code",
   "execution_count": 14,
   "metadata": {},
   "outputs": [
    {
     "name": "stdout",
     "output_type": "stream",
     "text": [
      "5\n",
      "6\n"
     ]
    }
   ],
   "source": [
    "a=10\n",
    "if a>5:\n",
    "    print('5')\n",
    "if a>6:\n",
    "    print('6')"
   ]
  },
  {
   "cell_type": "code",
   "execution_count": 12,
   "metadata": {},
   "outputs": [
    {
     "name": "stdout",
     "output_type": "stream",
     "text": [
      "0 cats <class 'str'>\n",
      "1 dogs <class 'str'>\n",
      "2 rabbit <class 'str'>\n",
      "3 cheetha <class 'str'>\n"
     ]
    }
   ],
   "source": [
    "pets=['cats','dogs','rabbit','cheetha']\n",
    "for index,myPets in enumerate(pets):\n",
    "        print (index, myPets,type(myPets))"
   ]
  },
  {
   "cell_type": "code",
   "execution_count": 11,
   "metadata": {},
   "outputs": [
    {
     "name": "stdout",
     "output_type": "stream",
     "text": [
      "54\n",
      "0\n",
      "Composite\n"
     ]
    }
   ],
   "source": [
    "num=int(input())\n",
    "def isprime(num):\n",
    "\tif num<2:\n",
    "\t\treturn \"Composite\"\n",
    "\tif num==2 or num==3:\n",
    "\t\treturn \"Prime\"\n",
    "\tfor i in range(2,int(num**0.5)+1):\n",
    "\t\tif num%i==0:\n",
    "\t\t\t\tprint(num%i)\n",
    "\t\t\t\treturn \"Composite\"\n",
    "\treturn \"Prime\"\n",
    "print(isprime(num))"
   ]
  },
  {
   "cell_type": "code",
   "execution_count": 9,
   "metadata": {},
   "outputs": [
    {
     "name": "stdout",
     "output_type": "stream",
     "text": [
      "2\n",
      "3\n",
      "4\n"
     ]
    }
   ],
   "source": [
    "for i in range(2,int(21**0.5)+1):\n",
    "    print(i)"
   ]
  },
  {
   "cell_type": "code",
   "execution_count": null,
   "metadata": {},
   "outputs": [],
   "source": []
  },
  {
   "cell_type": "code",
   "execution_count": null,
   "metadata": {},
   "outputs": [],
   "source": []
  }
 ],
 "metadata": {
  "kernelspec": {
   "display_name": "Python 3",
   "language": "python",
   "name": "python3"
  },
  "language_info": {
   "codemirror_mode": {
    "name": "ipython",
    "version": 3
   },
   "file_extension": ".py",
   "mimetype": "text/x-python",
   "name": "python",
   "nbconvert_exporter": "python",
   "pygments_lexer": "ipython3",
   "version": "3.8.5"
  }
 },
 "nbformat": 4,
 "nbformat_minor": 4
}
