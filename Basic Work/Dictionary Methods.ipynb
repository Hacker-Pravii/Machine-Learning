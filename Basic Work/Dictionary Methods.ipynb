{
 "cells": [
  {
   "cell_type": "code",
   "execution_count": 23,
   "metadata": {},
   "outputs": [
    {
     "name": "stdout",
     "output_type": "stream",
     "text": [
      "one\n",
      "{1: 'one', 2: 'two', 3: 'three', 4: 'four'}\n",
      "dict_keys([1, 2, 3, 4])\n",
      "two\n",
      "dict_items([(1, 'one'), (2, 'two'), (3, 'three'), (4, 'four')])\n",
      "{1: None, 2: None, 3: None, 4: None}\n",
      "{1: 'one', 2: 'two', 3: 'three'}\n",
      "{1: 'one', 2: 'two', 3: 'three', 5: 'five'}\n",
      "two\n",
      "{1: 'one', 3: 'three', 5: 'five'}\n",
      "dict_values(['one', 'three', 'five'])\n",
      "{1: 'one', 3: 'three', 5: 'fivvee', 6: 'six'}\n"
     ]
    }
   ],
   "source": [
    "_dict={1:'one',2:'two',3:'three',4:'four'} #{Key:Value}\n",
    "print(_dict[1]) #Printing helping with Key\n",
    "new=_dict.copy()\n",
    "print(new)\n",
    "_keys=_dict.keys() #Keys Returns the Keys of dictionary\n",
    "print(_keys)\n",
    "print(_dict.get(2))# Get the value of specified key\n",
    "itm=_dict.items() #Items returns tuple pair keys and thier value\n",
    "print(itm)\n",
    "print(_dict.fromkeys(_dict)) #Accessing Key without value.\n",
    "_dict.popitem() #Poping the item LIFO(Last In First Out) Order \n",
    "print(_dict)\n",
    "_dict.setdefault(5,'five')\n",
    "print(_dict)\n",
    "val=_dict.pop(2)# returns the value of the key 2 and their vlaue will be removed from the dictonary.\n",
    "print(val) \n",
    "print(_dict)\n",
    "value=_dict.values() #Returns the values of the dictionary\n",
    "print(value)\n",
    "dc={6:'six',5:'fivvee'}\n",
    "_dict.update(dc) #update the values and keys if its not there\n",
    "print(_dict)\n",
    "_dict.clear()\n"
   ]
  },
  {
   "cell_type": "code",
   "execution_count": null,
   "metadata": {},
   "outputs": [],
   "source": []
  }
 ],
 "metadata": {
  "kernelspec": {
   "display_name": "Python 3",
   "language": "python",
   "name": "python3"
  },
  "language_info": {
   "codemirror_mode": {
    "name": "ipython",
    "version": 3
   },
   "file_extension": ".py",
   "mimetype": "text/x-python",
   "name": "python",
   "nbconvert_exporter": "python",
   "pygments_lexer": "ipython3",
   "version": "3.8.5"
  }
 },
 "nbformat": 4,
 "nbformat_minor": 4
}
