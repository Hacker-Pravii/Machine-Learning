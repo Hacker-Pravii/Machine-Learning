{
 "cells": [
  {
   "cell_type": "code",
   "execution_count": 5,
   "metadata": {},
   "outputs": [
    {
     "name": "stdout",
     "output_type": "stream",
     "text": [
      "list [2, 23, 45, 566, 78, 88, 999, 4, 4, 78, 'string', 223.22, 87]\n",
      "append [2, 23, 45, 566, 78, 88, 999, 4, 4, 78, 'string', 223.22, 87, 262]\n",
      "999\n",
      "3\n",
      "[2, 23, 45, 566, 78, 88, 999, 4, 4, 78, 'string', 223.22, 87, 262, 'String1', 'String2', 554, 'TupleString', 277]\n",
      "[2, 23, 45, '3rd index using insert function', 566, 78, 88, 999, 4, 4, 78, 'string', 223.22, 87, 262, 'String1', 'String2', 554, 'TupleString', 277]\n",
      "[2, 23, '3rd index using insert function', 566, 78, 88, 999, 4, 4, 78, 'string', 223.22, 87, 262, 'String1', 'String2', 554, 'TupleString']\n",
      "[2, '3rd index using insert function', 566, 78, 88, 999, 4, 4, 78, 'string', 223.22, 87, 262, 'String1', 'String2', 554, 'TupleString']\n",
      "[2, '3rd index using insert function', 566, 78, 88, 999, 4, 4, 78, 'string', 223.22, 87, 262, 'String1', 'String2', 554, 'TupleString']\n",
      "2\n",
      "['TupleString', 554, 'String2', 'String1', 262, 87, 223.22, 'string', 78, 4, 4, 999, 88, 78, 566, '3rd index using insert function', 2]\n",
      "[2, 5, 5, 34, 45, 67, 88]\n",
      "[88, 67, 45, 34, 5, 5, 2]\n",
      "None\n"
     ]
    }
   ],
   "source": [
    "_list=[2,23,45,566,78,88,999,4,4,78,\"string\",223.22,87]\n",
    "print(\"list\",_list)\n",
    "#list Functions\n",
    "_list.append(262) #The append method add the item end of the list\n",
    "print(\"append\",_list)\n",
    "find_index=_list.index(999) #The Index of the integer 999 will be stored into variable find_index\n",
    "print(_list[find_index]) #Printing particuler value help of index\n",
    "print(_list.index(566,1,6)) #index(element,start index,End index) #start and end index are optional\n",
    "_list.extend([ \"String1\",\"String2\",554])# Appending multiple elements using extend iterable function\n",
    "_list.extend((\"TupleString\",25)) #Appending Tuple data also possible using extend function\n",
    "_list[18]=277 #index 18 of list assigned integerdata 277\n",
    "print(_list)\n",
    "_list.insert(3,\"3rd index using insert function\") #insert string or numaric value to give index using insert function\n",
    "print(_list)\n",
    "_list.pop() #removes the last index value it also takes single arguements\n",
    "_list.pop(2)# 2nd index data will be removed/poped from the list\n",
    "print(_list)\n",
    "_list.remove(23) # remove method directly trageted to the data of list it remvoves the given data\n",
    "print(_list)\n",
    "new_list=_list.copy() #copying list to another list\n",
    "print(new_list)\n",
    "print(_list.count(4)) #counting repeat elements in this case the data 4 is available 2 times in a list\n",
    "_list.reverse() #reversing list\n",
    "print(_list) #printing reverse list\n",
    "new_ls=[5,45,34,2,5,67,88]\n",
    "new_ls.sort()# Sort function allow only string or only integer sort will give error if list contains number and string\n",
    "print(new_ls)\n",
    "new_ls.sort(reverse=True) #Dessending Order Reverse the sort.\n",
    "print(new_ls)\n",
    "print(_list.clear())#clearing the list\n",
    "\n",
    "        "
   ]
  },
  {
   "cell_type": "code",
   "execution_count": 11,
   "metadata": {},
   "outputs": [
    {
     "name": "stdout",
     "output_type": "stream",
     "text": [
      "('String', 1, 24, 56, 888, 333, 33.33, 455, 'A', 'String')\n",
      "8\n",
      "1\n"
     ]
    }
   ],
   "source": [
    "#tuple methods\n",
    "tup_list=(\"String\",1,24,56,888,333,33.33,455,'A',\"String\") #tuple declare using Round Brackets\n",
    "print(tup_list) #in tuple we cannot alteration\n",
    "print(tup_list.index(\"A\")) #find the index of data\n",
    "print(tup_list.count(56)) #Count the repeated element\n"
   ]
  },
  {
   "cell_type": "code",
   "execution_count": 16,
   "metadata": {},
   "outputs": [
    {
     "name": "stdout",
     "output_type": "stream",
     "text": [
      "[77, 55, 4, 3, 2, 1]\n"
     ]
    }
   ],
   "source": [
    "a=[1,2,3,4,55,77]\n",
    "a.reverse()\n",
    "print(a)"
   ]
  },
  {
   "cell_type": "code",
   "execution_count": null,
   "metadata": {},
   "outputs": [],
   "source": []
  }
 ],
 "metadata": {
  "kernelspec": {
   "display_name": "Python 3",
   "language": "python",
   "name": "python3"
  },
  "language_info": {
   "codemirror_mode": {
    "name": "ipython",
    "version": 3
   },
   "file_extension": ".py",
   "mimetype": "text/x-python",
   "name": "python",
   "nbconvert_exporter": "python",
   "pygments_lexer": "ipython3",
   "version": "3.8.5"
  }
 },
 "nbformat": 4,
 "nbformat_minor": 4
}
