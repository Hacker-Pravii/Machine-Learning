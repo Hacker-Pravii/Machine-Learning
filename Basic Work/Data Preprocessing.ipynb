{
 "cells": [
  {
   "cell_type": "code",
   "execution_count": 1,
   "metadata": {},
   "outputs": [],
   "source": [
    "import numpy as np\n",
    "import pandas as pd\n",
    "import matplotlib.pyplot as plt\n",
    "import seaborn as sns\n",
    "import os\n"
   ]
  },
  {
   "cell_type": "code",
   "execution_count": 2,
   "metadata": {},
   "outputs": [
    {
     "data": {
      "text/html": [
       "<div>\n",
       "<style scoped>\n",
       "    .dataframe tbody tr th:only-of-type {\n",
       "        vertical-align: middle;\n",
       "    }\n",
       "\n",
       "    .dataframe tbody tr th {\n",
       "        vertical-align: top;\n",
       "    }\n",
       "\n",
       "    .dataframe thead th {\n",
       "        text-align: right;\n",
       "    }\n",
       "</style>\n",
       "<table border=\"1\" class=\"dataframe\">\n",
       "  <thead>\n",
       "    <tr style=\"text-align: right;\">\n",
       "      <th></th>\n",
       "      <th>YearsExperience</th>\n",
       "      <th>Salary</th>\n",
       "    </tr>\n",
       "  </thead>\n",
       "  <tbody>\n",
       "    <tr>\n",
       "      <th>0</th>\n",
       "      <td>1.1</td>\n",
       "      <td>39343</td>\n",
       "    </tr>\n",
       "    <tr>\n",
       "      <th>1</th>\n",
       "      <td>1.3</td>\n",
       "      <td>46205</td>\n",
       "    </tr>\n",
       "    <tr>\n",
       "      <th>2</th>\n",
       "      <td>1.5</td>\n",
       "      <td>37731</td>\n",
       "    </tr>\n",
       "    <tr>\n",
       "      <th>3</th>\n",
       "      <td>2.0</td>\n",
       "      <td>43525</td>\n",
       "    </tr>\n",
       "    <tr>\n",
       "      <th>4</th>\n",
       "      <td>2.2</td>\n",
       "      <td>39891</td>\n",
       "    </tr>\n",
       "    <tr>\n",
       "      <th>5</th>\n",
       "      <td>2.9</td>\n",
       "      <td>56642</td>\n",
       "    </tr>\n",
       "    <tr>\n",
       "      <th>6</th>\n",
       "      <td>3.0</td>\n",
       "      <td>60150</td>\n",
       "    </tr>\n",
       "    <tr>\n",
       "      <th>7</th>\n",
       "      <td>3.2</td>\n",
       "      <td>54445</td>\n",
       "    </tr>\n",
       "    <tr>\n",
       "      <th>8</th>\n",
       "      <td>3.2</td>\n",
       "      <td>64445</td>\n",
       "    </tr>\n",
       "    <tr>\n",
       "      <th>9</th>\n",
       "      <td>3.7</td>\n",
       "      <td>57189</td>\n",
       "    </tr>\n",
       "    <tr>\n",
       "      <th>10</th>\n",
       "      <td>3.9</td>\n",
       "      <td>63218</td>\n",
       "    </tr>\n",
       "    <tr>\n",
       "      <th>11</th>\n",
       "      <td>4.0</td>\n",
       "      <td>55794</td>\n",
       "    </tr>\n",
       "    <tr>\n",
       "      <th>12</th>\n",
       "      <td>4.0</td>\n",
       "      <td>56957</td>\n",
       "    </tr>\n",
       "    <tr>\n",
       "      <th>13</th>\n",
       "      <td>4.1</td>\n",
       "      <td>57081</td>\n",
       "    </tr>\n",
       "    <tr>\n",
       "      <th>14</th>\n",
       "      <td>4.5</td>\n",
       "      <td>61111</td>\n",
       "    </tr>\n",
       "    <tr>\n",
       "      <th>15</th>\n",
       "      <td>4.9</td>\n",
       "      <td>67938</td>\n",
       "    </tr>\n",
       "    <tr>\n",
       "      <th>16</th>\n",
       "      <td>5.1</td>\n",
       "      <td>66029</td>\n",
       "    </tr>\n",
       "    <tr>\n",
       "      <th>17</th>\n",
       "      <td>5.3</td>\n",
       "      <td>83088</td>\n",
       "    </tr>\n",
       "    <tr>\n",
       "      <th>18</th>\n",
       "      <td>5.9</td>\n",
       "      <td>81363</td>\n",
       "    </tr>\n",
       "    <tr>\n",
       "      <th>19</th>\n",
       "      <td>6.0</td>\n",
       "      <td>93940</td>\n",
       "    </tr>\n",
       "    <tr>\n",
       "      <th>20</th>\n",
       "      <td>6.8</td>\n",
       "      <td>91738</td>\n",
       "    </tr>\n",
       "    <tr>\n",
       "      <th>21</th>\n",
       "      <td>7.1</td>\n",
       "      <td>98273</td>\n",
       "    </tr>\n",
       "    <tr>\n",
       "      <th>22</th>\n",
       "      <td>7.9</td>\n",
       "      <td>101302</td>\n",
       "    </tr>\n",
       "    <tr>\n",
       "      <th>23</th>\n",
       "      <td>8.2</td>\n",
       "      <td>113812</td>\n",
       "    </tr>\n",
       "    <tr>\n",
       "      <th>24</th>\n",
       "      <td>8.7</td>\n",
       "      <td>109431</td>\n",
       "    </tr>\n",
       "    <tr>\n",
       "      <th>25</th>\n",
       "      <td>9.0</td>\n",
       "      <td>105582</td>\n",
       "    </tr>\n",
       "    <tr>\n",
       "      <th>26</th>\n",
       "      <td>9.5</td>\n",
       "      <td>116969</td>\n",
       "    </tr>\n",
       "    <tr>\n",
       "      <th>27</th>\n",
       "      <td>9.6</td>\n",
       "      <td>112635</td>\n",
       "    </tr>\n",
       "    <tr>\n",
       "      <th>28</th>\n",
       "      <td>10.3</td>\n",
       "      <td>122391</td>\n",
       "    </tr>\n",
       "    <tr>\n",
       "      <th>29</th>\n",
       "      <td>10.5</td>\n",
       "      <td>121872</td>\n",
       "    </tr>\n",
       "  </tbody>\n",
       "</table>\n",
       "</div>"
      ],
      "text/plain": [
       "    YearsExperience  Salary\n",
       "0               1.1   39343\n",
       "1               1.3   46205\n",
       "2               1.5   37731\n",
       "3               2.0   43525\n",
       "4               2.2   39891\n",
       "5               2.9   56642\n",
       "6               3.0   60150\n",
       "7               3.2   54445\n",
       "8               3.2   64445\n",
       "9               3.7   57189\n",
       "10              3.9   63218\n",
       "11              4.0   55794\n",
       "12              4.0   56957\n",
       "13              4.1   57081\n",
       "14              4.5   61111\n",
       "15              4.9   67938\n",
       "16              5.1   66029\n",
       "17              5.3   83088\n",
       "18              5.9   81363\n",
       "19              6.0   93940\n",
       "20              6.8   91738\n",
       "21              7.1   98273\n",
       "22              7.9  101302\n",
       "23              8.2  113812\n",
       "24              8.7  109431\n",
       "25              9.0  105582\n",
       "26              9.5  116969\n",
       "27              9.6  112635\n",
       "28             10.3  122391\n",
       "29             10.5  121872"
      ]
     },
     "execution_count": 2,
     "metadata": {},
     "output_type": "execute_result"
    }
   ],
   "source": [
    "df=pd.read_csv(r'E:\\Batch 52- Day10\\Salary_Data.csv')\n",
    "df"
   ]
  },
  {
   "cell_type": "code",
   "execution_count": 18,
   "metadata": {},
   "outputs": [],
   "source": [
    "x=df.iloc[:,:-1].values\n",
    "y=df.iloc[:,1].values"
   ]
  },
  {
   "cell_type": "code",
   "execution_count": 142,
   "metadata": {},
   "outputs": [],
   "source": [
    "from sklearn.model_selection import train_test_split\n",
    "x_train, x_test,y_train,y_test = train_test_split(x,y,test_size=0.3)"
   ]
  },
  {
   "cell_type": "code",
   "execution_count": null,
   "metadata": {},
   "outputs": [],
   "source": []
  },
  {
   "cell_type": "code",
   "execution_count": 143,
   "metadata": {},
   "outputs": [
    {
     "data": {
      "text/plain": [
       "LinearRegression()"
      ]
     },
     "execution_count": 143,
     "metadata": {},
     "output_type": "execute_result"
    }
   ],
   "source": [
    "from sklearn.linear_model import LinearRegression\n",
    "reg = LinearRegression()\n",
    "reg.fit(x_train, y_train)"
   ]
  },
  {
   "cell_type": "code",
   "execution_count": 28,
   "metadata": {},
   "outputs": [
    {
     "data": {
      "text/plain": [
       "(array([[10.5],\n",
       "        [ 4.5],\n",
       "        [ 7.9],\n",
       "        [ 9.6],\n",
       "        [ 5.3],\n",
       "        [ 2.9]]),\n",
       " array([121872,  61111, 101302, 112635,  83088,  56642], dtype=int64))"
      ]
     },
     "execution_count": 28,
     "metadata": {},
     "output_type": "execute_result"
    }
   ],
   "source": [
    "x_test,y_test"
   ]
  },
  {
   "cell_type": "code",
   "execution_count": 136,
   "metadata": {},
   "outputs": [
    {
     "name": "stdout",
     "output_type": "stream",
     "text": [
      "[126237.38501393  68341.33518643 101149.09675535 117552.9775398\n",
      "  76060.80849676  52902.38856576]\n"
     ]
    }
   ],
   "source": [
    "y_pred= reg.predict(x_test)\n",
    "print (y_pred)"
   ]
  },
  {
   "cell_type": "code",
   "execution_count": 133,
   "metadata": {},
   "outputs": [
    {
     "data": {
      "text/plain": [
       "array([[10.5],\n",
       "       [ 4.5],\n",
       "       [ 7.9],\n",
       "       [ 9.6],\n",
       "       [ 5.3],\n",
       "       [ 2.9]])"
      ]
     },
     "execution_count": 133,
     "metadata": {},
     "output_type": "execute_result"
    }
   ],
   "source": [
    "a=y_pred-y_test\n",
    "x_test"
   ]
  },
  {
   "cell_type": "code",
   "execution_count": 137,
   "metadata": {},
   "outputs": [
    {
     "name": "stdout",
     "output_type": "stream",
     "text": [
      "Coefficient [9649.34163792]\n",
      "Intercept 24919.29781580408\n"
     ]
    },
    {
     "data": {
      "text/plain": [
       "0.9564526464653216"
      ]
     },
     "execution_count": 137,
     "metadata": {},
     "output_type": "execute_result"
    }
   ],
   "source": [
    "from sklearn.metrics import r2_score\n",
    "print ('Coefficient', reg.coef_)\n",
    "print ('Intercept', reg.intercept_)\n",
    "r2_score(y_test,y_pred)"
   ]
  },
  {
   "cell_type": "code",
   "execution_count": 100,
   "metadata": {},
   "outputs": [
    {
     "name": "stdout",
     "output_type": "stream",
     "text": [
      "Coefficient [9649.34163792]\n",
      "Intercept 24919.29781580408\n"
     ]
    },
    {
     "data": {
      "text/plain": [
       "0.9350141507522469"
      ]
     },
     "execution_count": 100,
     "metadata": {},
     "output_type": "execute_result"
    }
   ],
   "source": [
    "from sklearn.metrics import r2_score\n",
    "print ('Coefficient', reg.coef_)\n",
    "print ('Intercept', reg.intercept_)\n",
    "r2_score(y_test,b)"
   ]
  },
  {
   "cell_type": "code",
   "execution_count": 134,
   "metadata": {},
   "outputs": [
    {
     "name": "stdout",
     "output_type": "stream",
     "text": [
      "[68341.33518643]\n"
     ]
    }
   ],
   "source": [
    "print(reg.predict([[4.5]]))"
   ]
  },
  {
   "cell_type": "code",
   "execution_count": 3,
   "metadata": {},
   "outputs": [
    {
     "data": {
      "text/plain": [
       "'C:\\\\Users\\\\Brain Hacker\\\\Documents\\\\Python Jupiter'"
      ]
     },
     "execution_count": 3,
     "metadata": {},
     "output_type": "execute_result"
    }
   ],
   "source": [
    "os.getcwd()"
   ]
  },
  {
   "cell_type": "code",
   "execution_count": 129,
   "metadata": {},
   "outputs": [],
   "source": [
    "df=pd. read_excel(r'E:\\Batch 52- Day9\\Data Preprocessing Data File.xlsx')"
   ]
  },
  {
   "cell_type": "code",
   "execution_count": 138,
   "metadata": {},
   "outputs": [
    {
     "data": {
      "text/html": [
       "<div>\n",
       "<style scoped>\n",
       "    .dataframe tbody tr th:only-of-type {\n",
       "        vertical-align: middle;\n",
       "    }\n",
       "\n",
       "    .dataframe tbody tr th {\n",
       "        vertical-align: top;\n",
       "    }\n",
       "\n",
       "    .dataframe thead th {\n",
       "        text-align: right;\n",
       "    }\n",
       "</style>\n",
       "<table border=\"1\" class=\"dataframe\">\n",
       "  <thead>\n",
       "    <tr style=\"text-align: right;\">\n",
       "      <th></th>\n",
       "      <th>Country</th>\n",
       "      <th>Age</th>\n",
       "      <th>Salary</th>\n",
       "      <th>Purchased</th>\n",
       "    </tr>\n",
       "  </thead>\n",
       "  <tbody>\n",
       "    <tr>\n",
       "      <th>0</th>\n",
       "      <td>France</td>\n",
       "      <td>44.0</td>\n",
       "      <td>72000.0</td>\n",
       "      <td>No</td>\n",
       "    </tr>\n",
       "    <tr>\n",
       "      <th>1</th>\n",
       "      <td>Spain</td>\n",
       "      <td>27.0</td>\n",
       "      <td>48000.0</td>\n",
       "      <td>Yes</td>\n",
       "    </tr>\n",
       "    <tr>\n",
       "      <th>2</th>\n",
       "      <td>Germany</td>\n",
       "      <td>NaN</td>\n",
       "      <td>54000.0</td>\n",
       "      <td>No</td>\n",
       "    </tr>\n",
       "    <tr>\n",
       "      <th>3</th>\n",
       "      <td>Spain</td>\n",
       "      <td>39.0</td>\n",
       "      <td>NaN</td>\n",
       "      <td>No</td>\n",
       "    </tr>\n",
       "    <tr>\n",
       "      <th>4</th>\n",
       "      <td>Germany</td>\n",
       "      <td>NaN</td>\n",
       "      <td>64000.0</td>\n",
       "      <td>Yes</td>\n",
       "    </tr>\n",
       "    <tr>\n",
       "      <th>5</th>\n",
       "      <td>France</td>\n",
       "      <td>35.0</td>\n",
       "      <td>58000.0</td>\n",
       "      <td>Yes</td>\n",
       "    </tr>\n",
       "    <tr>\n",
       "      <th>6</th>\n",
       "      <td>Spain</td>\n",
       "      <td>39.0</td>\n",
       "      <td>52000.0</td>\n",
       "      <td>No</td>\n",
       "    </tr>\n",
       "    <tr>\n",
       "      <th>7</th>\n",
       "      <td>France</td>\n",
       "      <td>48.0</td>\n",
       "      <td>NaN</td>\n",
       "      <td>Yes</td>\n",
       "    </tr>\n",
       "    <tr>\n",
       "      <th>8</th>\n",
       "      <td>Germany</td>\n",
       "      <td>50.0</td>\n",
       "      <td>83000.0</td>\n",
       "      <td>No</td>\n",
       "    </tr>\n",
       "    <tr>\n",
       "      <th>9</th>\n",
       "      <td>France</td>\n",
       "      <td>37.0</td>\n",
       "      <td>67000.0</td>\n",
       "      <td>Yes</td>\n",
       "    </tr>\n",
       "  </tbody>\n",
       "</table>\n",
       "</div>"
      ],
      "text/plain": [
       "   Country   Age   Salary  Purchased \n",
       "0   France   44.0  72000.0         No\n",
       "1    Spain   27.0  48000.0        Yes\n",
       "2  Germany    NaN  54000.0         No\n",
       "3    Spain   39.0      NaN         No\n",
       "4  Germany    NaN  64000.0        Yes\n",
       "5   France   35.0  58000.0        Yes\n",
       "6    Spain   39.0  52000.0         No\n",
       "7   France   48.0      NaN        Yes\n",
       "8  Germany   50.0  83000.0         No\n",
       "9   France   37.0  67000.0        Yes"
      ]
     },
     "execution_count": 138,
     "metadata": {},
     "output_type": "execute_result"
    }
   ],
   "source": [
    "x=df.iloc[:,:-1].values\n",
    "y=df.iloc[:,-1:].values\n",
    "a=df.iloc[:,:-1].values\n",
    "b=df.iloc[:,-1:].values\n",
    "df"
   ]
  },
  {
   "cell_type": "code",
   "execution_count": 139,
   "metadata": {},
   "outputs": [
    {
     "data": {
      "text/plain": [
       "array([['France ', 44.0, 72000.0],\n",
       "       ['Spain ', 27.0, 48000.0],\n",
       "       ['Germany ', 39.875, 54000.0],\n",
       "       ['Spain ', 39.0, 62250.0],\n",
       "       ['Germany ', 39.875, 64000.0],\n",
       "       ['France ', 35.0, 58000.0],\n",
       "       ['Spain ', 39.0, 52000.0],\n",
       "       ['France ', 48.0, 62250.0],\n",
       "       ['Germany ', 50.0, 83000.0],\n",
       "       ['France ', 37.0, 67000.0]], dtype=object)"
      ]
     },
     "execution_count": 139,
     "metadata": {},
     "output_type": "execute_result"
    }
   ],
   "source": [
    "from sklearn.impute import SimpleImputer as si\n",
    "imp=si(missing_values=np.nan, strategy='mean')\n",
    "imp=imp.fit(x[:,1:3])\n",
    "x[:,1:3]=imp.transform(x[:,1:3])\n",
    "x"
   ]
  },
  {
   "cell_type": "code",
   "execution_count": 141,
   "metadata": {},
   "outputs": [
    {
     "data": {
      "text/html": [
       "<div>\n",
       "<style scoped>\n",
       "    .dataframe tbody tr th:only-of-type {\n",
       "        vertical-align: middle;\n",
       "    }\n",
       "\n",
       "    .dataframe tbody tr th {\n",
       "        vertical-align: top;\n",
       "    }\n",
       "\n",
       "    .dataframe thead th {\n",
       "        text-align: right;\n",
       "    }\n",
       "</style>\n",
       "<table border=\"1\" class=\"dataframe\">\n",
       "  <thead>\n",
       "    <tr style=\"text-align: right;\">\n",
       "      <th></th>\n",
       "      <th>0</th>\n",
       "      <th>1</th>\n",
       "      <th>2</th>\n",
       "      <th>3</th>\n",
       "      <th>4</th>\n",
       "    </tr>\n",
       "  </thead>\n",
       "  <tbody>\n",
       "    <tr>\n",
       "      <th>0</th>\n",
       "      <td>1</td>\n",
       "      <td>0</td>\n",
       "      <td>0</td>\n",
       "      <td>44</td>\n",
       "      <td>72000</td>\n",
       "    </tr>\n",
       "    <tr>\n",
       "      <th>1</th>\n",
       "      <td>0</td>\n",
       "      <td>0</td>\n",
       "      <td>1</td>\n",
       "      <td>27</td>\n",
       "      <td>48000</td>\n",
       "    </tr>\n",
       "    <tr>\n",
       "      <th>2</th>\n",
       "      <td>0</td>\n",
       "      <td>1</td>\n",
       "      <td>0</td>\n",
       "      <td>39.875</td>\n",
       "      <td>54000</td>\n",
       "    </tr>\n",
       "    <tr>\n",
       "      <th>3</th>\n",
       "      <td>0</td>\n",
       "      <td>0</td>\n",
       "      <td>1</td>\n",
       "      <td>39</td>\n",
       "      <td>62250</td>\n",
       "    </tr>\n",
       "    <tr>\n",
       "      <th>4</th>\n",
       "      <td>0</td>\n",
       "      <td>1</td>\n",
       "      <td>0</td>\n",
       "      <td>39.875</td>\n",
       "      <td>64000</td>\n",
       "    </tr>\n",
       "    <tr>\n",
       "      <th>5</th>\n",
       "      <td>1</td>\n",
       "      <td>0</td>\n",
       "      <td>0</td>\n",
       "      <td>35</td>\n",
       "      <td>58000</td>\n",
       "    </tr>\n",
       "    <tr>\n",
       "      <th>6</th>\n",
       "      <td>0</td>\n",
       "      <td>0</td>\n",
       "      <td>1</td>\n",
       "      <td>39</td>\n",
       "      <td>52000</td>\n",
       "    </tr>\n",
       "    <tr>\n",
       "      <th>7</th>\n",
       "      <td>1</td>\n",
       "      <td>0</td>\n",
       "      <td>0</td>\n",
       "      <td>48</td>\n",
       "      <td>62250</td>\n",
       "    </tr>\n",
       "    <tr>\n",
       "      <th>8</th>\n",
       "      <td>0</td>\n",
       "      <td>1</td>\n",
       "      <td>0</td>\n",
       "      <td>50</td>\n",
       "      <td>83000</td>\n",
       "    </tr>\n",
       "    <tr>\n",
       "      <th>9</th>\n",
       "      <td>1</td>\n",
       "      <td>0</td>\n",
       "      <td>0</td>\n",
       "      <td>37</td>\n",
       "      <td>67000</td>\n",
       "    </tr>\n",
       "  </tbody>\n",
       "</table>\n",
       "</div>"
      ],
      "text/plain": [
       "   0  1  2       3      4\n",
       "0  1  0  0      44  72000\n",
       "1  0  0  1      27  48000\n",
       "2  0  1  0  39.875  54000\n",
       "3  0  0  1      39  62250\n",
       "4  0  1  0  39.875  64000\n",
       "5  1  0  0      35  58000\n",
       "6  0  0  1      39  52000\n",
       "7  1  0  0      48  62250\n",
       "8  0  1  0      50  83000\n",
       "9  1  0  0      37  67000"
      ]
     },
     "execution_count": 141,
     "metadata": {},
     "output_type": "execute_result"
    }
   ],
   "source": [
    "from sklearn.compose import ColumnTransformer as ct\n",
    "from sklearn.preprocessing import OneHotEncoder\n",
    "ct=ct(transformers=[('EN',OneHotEncoder(),[0])],remainder='passthrough')\n",
    "x=np.array(ct.fit_transform(x))\n",
    "pd.DataFrame(x)"
   ]
  },
  {
   "cell_type": "code",
   "execution_count": 113,
   "metadata": {},
   "outputs": [
    {
     "data": {
      "text/plain": [
       "array([0, 1, 0, 0, 1, 1, 0, 1, 0, 1])"
      ]
     },
     "execution_count": 113,
     "metadata": {},
     "output_type": "execute_result"
    }
   ],
   "source": [
    "from sklearn.preprocessing import LabelEncoder as le\n",
    "en=le()\n",
    "y=en.fit_transform(y)\n",
    "y"
   ]
  },
  {
   "cell_type": "code",
   "execution_count": 142,
   "metadata": {},
   "outputs": [
    {
     "data": {
      "text/html": [
       "<div>\n",
       "<style scoped>\n",
       "    .dataframe tbody tr th:only-of-type {\n",
       "        vertical-align: middle;\n",
       "    }\n",
       "\n",
       "    .dataframe tbody tr th {\n",
       "        vertical-align: top;\n",
       "    }\n",
       "\n",
       "    .dataframe thead th {\n",
       "        text-align: right;\n",
       "    }\n",
       "</style>\n",
       "<table border=\"1\" class=\"dataframe\">\n",
       "  <thead>\n",
       "    <tr style=\"text-align: right;\">\n",
       "      <th></th>\n",
       "      <th>0</th>\n",
       "      <th>1</th>\n",
       "      <th>2</th>\n",
       "      <th>3</th>\n",
       "      <th>4</th>\n",
       "    </tr>\n",
       "  </thead>\n",
       "  <tbody>\n",
       "    <tr>\n",
       "      <th>0</th>\n",
       "      <td>1.224745</td>\n",
       "      <td>-0.654654</td>\n",
       "      <td>-0.654654</td>\n",
       "      <td>0.664912</td>\n",
       "      <td>1.002707</td>\n",
       "    </tr>\n",
       "    <tr>\n",
       "      <th>1</th>\n",
       "      <td>-0.816497</td>\n",
       "      <td>-0.654654</td>\n",
       "      <td>1.527525</td>\n",
       "      <td>-2.075331</td>\n",
       "      <td>-1.465494</td>\n",
       "    </tr>\n",
       "    <tr>\n",
       "      <th>2</th>\n",
       "      <td>-0.816497</td>\n",
       "      <td>1.527525</td>\n",
       "      <td>-0.654654</td>\n",
       "      <td>0.000000</td>\n",
       "      <td>-0.848444</td>\n",
       "    </tr>\n",
       "    <tr>\n",
       "      <th>3</th>\n",
       "      <td>-0.816497</td>\n",
       "      <td>-0.654654</td>\n",
       "      <td>1.527525</td>\n",
       "      <td>-0.141042</td>\n",
       "      <td>0.000000</td>\n",
       "    </tr>\n",
       "    <tr>\n",
       "      <th>4</th>\n",
       "      <td>-0.816497</td>\n",
       "      <td>1.527525</td>\n",
       "      <td>-0.654654</td>\n",
       "      <td>0.000000</td>\n",
       "      <td>0.179973</td>\n",
       "    </tr>\n",
       "    <tr>\n",
       "      <th>5</th>\n",
       "      <td>1.224745</td>\n",
       "      <td>-0.654654</td>\n",
       "      <td>-0.654654</td>\n",
       "      <td>-0.785805</td>\n",
       "      <td>-0.437077</td>\n",
       "    </tr>\n",
       "    <tr>\n",
       "      <th>6</th>\n",
       "      <td>-0.816497</td>\n",
       "      <td>-0.654654</td>\n",
       "      <td>1.527525</td>\n",
       "      <td>-0.141042</td>\n",
       "      <td>-1.054127</td>\n",
       "    </tr>\n",
       "    <tr>\n",
       "      <th>7</th>\n",
       "      <td>1.224745</td>\n",
       "      <td>-0.654654</td>\n",
       "      <td>-0.654654</td>\n",
       "      <td>1.309675</td>\n",
       "      <td>0.000000</td>\n",
       "    </tr>\n",
       "    <tr>\n",
       "      <th>8</th>\n",
       "      <td>-0.816497</td>\n",
       "      <td>1.527525</td>\n",
       "      <td>-0.654654</td>\n",
       "      <td>1.632056</td>\n",
       "      <td>2.133965</td>\n",
       "    </tr>\n",
       "    <tr>\n",
       "      <th>9</th>\n",
       "      <td>1.224745</td>\n",
       "      <td>-0.654654</td>\n",
       "      <td>-0.654654</td>\n",
       "      <td>-0.463423</td>\n",
       "      <td>0.488498</td>\n",
       "    </tr>\n",
       "  </tbody>\n",
       "</table>\n",
       "</div>"
      ],
      "text/plain": [
       "          0         1         2         3         4\n",
       "0  1.224745 -0.654654 -0.654654  0.664912  1.002707\n",
       "1 -0.816497 -0.654654  1.527525 -2.075331 -1.465494\n",
       "2 -0.816497  1.527525 -0.654654  0.000000 -0.848444\n",
       "3 -0.816497 -0.654654  1.527525 -0.141042  0.000000\n",
       "4 -0.816497  1.527525 -0.654654  0.000000  0.179973\n",
       "5  1.224745 -0.654654 -0.654654 -0.785805 -0.437077\n",
       "6 -0.816497 -0.654654  1.527525 -0.141042 -1.054127\n",
       "7  1.224745 -0.654654 -0.654654  1.309675  0.000000\n",
       "8 -0.816497  1.527525 -0.654654  1.632056  2.133965\n",
       "9  1.224745 -0.654654 -0.654654 -0.463423  0.488498"
      ]
     },
     "execution_count": 142,
     "metadata": {},
     "output_type": "execute_result"
    }
   ],
   "source": [
    "from sklearn.preprocessing import StandardScaler as sc\n",
    "st_sc=sc()\n",
    "std_x=st_sc.fit_transform(x)\n",
    "pd.DataFrame(std_x)"
   ]
  },
  {
   "cell_type": "code",
   "execution_count": 143,
   "metadata": {},
   "outputs": [
    {
     "name": "stdout",
     "output_type": "stream",
     "text": [
      "     0    1    2         3         4\n",
      "0  1.0  0.0  0.0  0.739130  0.685714\n",
      "1  0.0  0.0  1.0  0.000000  0.000000\n",
      "2  0.0  1.0  0.0  0.559783  0.171429\n",
      "3  0.0  0.0  1.0  0.521739  0.407143\n",
      "4  0.0  1.0  0.0  0.559783  0.457143\n",
      "5  1.0  0.0  0.0  0.347826  0.285714\n",
      "6  0.0  0.0  1.0  0.521739  0.114286\n",
      "7  1.0  0.0  0.0  0.913043  0.407143\n",
      "8  0.0  1.0  0.0  1.000000  1.000000\n",
      "9  1.0  0.0  0.0  0.434783  0.542857\n"
     ]
    }
   ],
   "source": [
    "from sklearn.preprocessing import MinMaxScaler as mms\n",
    "mm=mms()\n",
    "mms_x=mm.fit_transform(x)\n",
    "print(pd.DataFrame(mms_x))"
   ]
  },
  {
   "cell_type": "code",
   "execution_count": 118,
   "metadata": {},
   "outputs": [
    {
     "name": "stdout",
     "output_type": "stream",
     "text": [
      "     0    1    2         3         4\n",
      "0  1.0  0.0  0.0  0.739130  0.685714\n",
      "1  0.0  0.0  1.0  0.000000  0.000000\n",
      "2  0.0  1.0  0.0  0.521739  0.171429\n",
      "3  0.0  0.0  1.0  0.521739  0.407143\n",
      "4  0.0  1.0  0.0  0.521739  0.457143\n",
      "5  1.0  0.0  0.0  0.347826  0.285714\n",
      "6  0.0  0.0  1.0  0.521739  0.114286\n",
      "7  1.0  0.0  0.0  0.913043  0.407143\n",
      "8  0.0  1.0  0.0  1.000000  1.000000\n",
      "9  1.0  0.0  0.0  0.434783  0.542857\n"
     ]
    }
   ],
   "source": [
    "from sklearn.preprocessing import MinMaxScaler as mms\n",
    "print(pd.DataFrame(mms().fit_transform(x)))"
   ]
  },
  {
   "cell_type": "code",
   "execution_count": 136,
   "metadata": {},
   "outputs": [
    {
     "data": {
      "text/plain": [
       "array([[0.0, 1.0, 0.0, 0.0, 44.0, 72000.0],\n",
       "       [1.0, 0.0, 0.0, 1.0, 27.0, 48000.0],\n",
       "       [1.0, 0.0, 1.0, 0.0, 39.875, 54000.0],\n",
       "       [1.0, 0.0, 0.0, 1.0, 39.0, 62250.0],\n",
       "       [1.0, 0.0, 1.0, 0.0, 39.875, 64000.0],\n",
       "       [0.0, 1.0, 0.0, 0.0, 35.0, 58000.0],\n",
       "       [1.0, 0.0, 0.0, 1.0, 39.0, 52000.0],\n",
       "       [0.0, 1.0, 0.0, 0.0, 48.0, 62250.0],\n",
       "       [1.0, 0.0, 1.0, 0.0, 50.0, 83000.0],\n",
       "       [0.0, 1.0, 0.0, 0.0, 37.0, 67000.0]], dtype=object)"
      ]
     },
     "execution_count": 136,
     "metadata": {},
     "output_type": "execute_result"
    }
   ],
   "source": [
    "from sklearn.preprocessing import StandardScaler as sc\n",
    "pd.DataFrame(sc().fit_transform(x))\n",
    "x"
   ]
  },
  {
   "cell_type": "code",
   "execution_count": 101,
   "metadata": {},
   "outputs": [
    {
     "name": "stdout",
     "output_type": "stream",
     "text": [
      "          0         1         2         3         4    5\n",
      "0  0.000000  0.000014  0.000000  0.000000  0.000611  1.0\n",
      "1  0.000021  0.000000  0.000000  0.000021  0.000562  1.0\n",
      "2  0.000019  0.000000  0.000019  0.000000  0.000722  1.0\n",
      "3  0.000016  0.000000  0.000000  0.000016  0.000627  1.0\n",
      "4  0.000016  0.000000  0.000016  0.000000  0.000609  1.0\n",
      "5  0.000000  0.000017  0.000000  0.000000  0.000603  1.0\n",
      "6  0.000019  0.000000  0.000000  0.000019  0.000750  1.0\n",
      "7  0.000000  0.000016  0.000000  0.000000  0.000771  1.0\n",
      "8  0.000012  0.000000  0.000012  0.000000  0.000602  1.0\n",
      "9  0.000000  0.000015  0.000000  0.000000  0.000552  1.0\n"
     ]
    },
    {
     "data": {
      "text/plain": [
       "array([[    0,     1,     0,     0,    44, 72000],\n",
       "       [    1,     0,     0,     1,    27, 48000],\n",
       "       [    1,     0,     1,     0,    39, 54000],\n",
       "       [    1,     0,     0,     1,    39, 62250],\n",
       "       [    1,     0,     1,     0,    39, 64000],\n",
       "       [    0,     1,     0,     0,    35, 58000],\n",
       "       [    1,     0,     0,     1,    39, 52000],\n",
       "       [    0,     1,     0,     0,    48, 62250],\n",
       "       [    1,     0,     1,     0,    50, 83000],\n",
       "       [    0,     1,     0,     0,    37, 67000]])"
      ]
     },
     "execution_count": 101,
     "metadata": {},
     "output_type": "execute_result"
    }
   ],
   "source": [
    "from sklearn.preprocessing import Normalizer as NML\n",
    "nm=NML()\n",
    "nm_x=nm.fit_transform(x)\n",
    "print(pd.DataFrame(nm_x))"
   ]
  },
  {
   "cell_type": "code",
   "execution_count": 102,
   "metadata": {},
   "outputs": [
    {
     "name": "stdout",
     "output_type": "stream",
     "text": [
      "          0         1         2         3         4    5\n",
      "0  0.000000  0.000014  0.000000  0.000000  0.000611  1.0\n",
      "1  0.000021  0.000000  0.000000  0.000021  0.000562  1.0\n",
      "2  0.000019  0.000000  0.000019  0.000000  0.000722  1.0\n",
      "3  0.000016  0.000000  0.000000  0.000016  0.000627  1.0\n",
      "4  0.000016  0.000000  0.000016  0.000000  0.000609  1.0\n",
      "5  0.000000  0.000017  0.000000  0.000000  0.000603  1.0\n",
      "6  0.000019  0.000000  0.000000  0.000019  0.000750  1.0\n",
      "7  0.000000  0.000016  0.000000  0.000000  0.000771  1.0\n",
      "8  0.000012  0.000000  0.000012  0.000000  0.000602  1.0\n",
      "9  0.000000  0.000015  0.000000  0.000000  0.000552  1.0\n"
     ]
    }
   ],
   "source": [
    "from sklearn.preprocessing import Normalizer as NML\n",
    "print(pd.DataFrame(NML().fit_transform(x)))"
   ]
  },
  {
   "cell_type": "code",
   "execution_count": 121,
   "metadata": {},
   "outputs": [
    {
     "data": {
      "text/plain": [
       "array([[    1,     0,     0,    44, 72000],\n",
       "       [    0,     0,     1,    27, 48000],\n",
       "       [    0,     1,     0,    39, 54000],\n",
       "       [    0,     0,     1,    39, 62250],\n",
       "       [    0,     1,     0,    39, 64000],\n",
       "       [    1,     0,     0,    35, 58000],\n",
       "       [    0,     0,     1,    39, 52000],\n",
       "       [    1,     0,     0,    48, 62250],\n",
       "       [    0,     1,     0,    50, 83000],\n",
       "       [    1,     0,     0,    37, 67000]])"
      ]
     },
     "execution_count": 121,
     "metadata": {},
     "output_type": "execute_result"
    }
   ],
   "source": []
  },
  {
   "cell_type": "code",
   "execution_count": null,
   "metadata": {},
   "outputs": [],
   "source": []
  },
  {
   "cell_type": "code",
   "execution_count": null,
   "metadata": {},
   "outputs": [],
   "source": []
  },
  {
   "cell_type": "code",
   "execution_count": null,
   "metadata": {},
   "outputs": [],
   "source": []
  },
  {
   "cell_type": "code",
   "execution_count": null,
   "metadata": {},
   "outputs": [],
   "source": [
    "from sklearn.preprocessing import LabelEncoder as le\n",
    "en=le()\n",
    "a[:,0]=en.fit_transform(a[:,0])\n",
    "print(a)"
   ]
  }
 ],
 "metadata": {
  "kernelspec": {
   "display_name": "Python 3",
   "language": "python",
   "name": "python3"
  },
  "language_info": {
   "codemirror_mode": {
    "name": "ipython",
    "version": 3
   },
   "file_extension": ".py",
   "mimetype": "text/x-python",
   "name": "python",
   "nbconvert_exporter": "python",
   "pygments_lexer": "ipython3",
   "version": "3.8.5"
  }
 },
 "nbformat": 4,
 "nbformat_minor": 4
}
